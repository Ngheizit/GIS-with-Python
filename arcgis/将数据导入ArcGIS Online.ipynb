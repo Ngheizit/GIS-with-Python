{
 "cells": [
  {
   "cell_type": "code",
   "execution_count": 5,
   "metadata": {},
   "outputs": [
    {
     "name": "stdout",
     "output_type": "stream",
     "text": [
      "ok\n"
     ]
    }
   ],
   "source": [
    "from arcgis.gis import GIS\n",
    "from tkinter import *\n",
    "import tkinter.filedialog\n",
    "print('ok')"
   ]
  },
  {
   "cell_type": "code",
   "execution_count": 3,
   "metadata": {
    "collapsed": true
   },
   "outputs": [
    {
     "name": "stdout",
     "output_type": "stream",
     "text": [
      "用户名：xizhewu\n",
      "密码：Wxz041499\n"
     ]
    },
    {
     "data": {
      "text/html": [
       "GIS @ <a href=\"https://ngheizit.maps.arcgis.com\">https://ngheizit.maps.arcgis.com</a>"
      ],
      "text/plain": [
       "GIS @ https://ngheizit.maps.arcgis.com version:7.3"
      ]
     },
     "execution_count": 3,
     "metadata": {},
     "output_type": "execute_result"
    }
   ],
   "source": [
    "username = input('用户名：')\n",
    "password = input('密码：')\n",
    "gis = GIS(\"https://www.arcgis.com\", username=username, password=password)\n",
    "gis"
   ]
  },
  {
   "cell_type": "code",
   "execution_count": 24,
   "metadata": {},
   "outputs": [
    {
     "name": "stdout",
     "output_type": "stream",
     "text": [
      "标题：Parks and Open Space\n",
      "标签：parks, open data, tutorials\n",
      "数据类型：Shapefile\n"
     ]
    }
   ],
   "source": [
    "properties = {\n",
    "    'title': input('标题：'),\n",
    "    'tags': input('标签：'),\n",
    "    'type': input('数据类型：')  # Shapefile or GeoJson or CSV\n",
    "}"
   ]
  },
  {
   "cell_type": "code",
   "execution_count": 26,
   "metadata": {},
   "outputs": [
    {
     "name": "stdout",
     "output_type": "stream",
     "text": [
      "上传文件的路径：D:/gitproj/gis2python/arcgis/download/Parks_and_Open_Space.zip\n"
     ]
    }
   ],
   "source": [
    "data_file_location = ''\n",
    "root = Tk()\n",
    "def xz():\n",
    "    global data_file_location\n",
    "    global root\n",
    "    filename = tkinter.filedialog.askopenfilename()\n",
    "    if filename != '':\n",
    "        data_file_location = filename\n",
    "        lb.config(text = \"您选择的文件是：\"+filename);\n",
    "        root.destroy()\n",
    "    else:\n",
    "        lb.config(text = \"您没有选择任何文件\");\n",
    "\n",
    "lb = Label(root,text = '')\n",
    "lb.pack()\n",
    "btn = Button(root,text=\"弹出选择文件对话框\",command=xz)\n",
    "btn.pack()\n",
    "root.mainloop()\n",
    "print('上传文件的路径：' + data_file_location)"
   ]
  },
  {
   "cell_type": "code",
   "execution_count": 28,
   "metadata": {},
   "outputs": [
    {
     "name": "stdout",
     "output_type": "stream",
     "text": [
      "上传至（网络文件夹）：测试内容\n"
     ]
    },
    {
     "data": {
      "text/html": [
       "<div class=\"item_container\" style=\"height: auto; overflow: hidden; border: 1px solid #cfcfcf; border-radius: 2px; background: #f6fafa; line-height: 1.21429em; padding: 10px;\">\n",
       "                    <div class=\"item_left\" style=\"width: 210px; float: left;\">\n",
       "                       <a href='https://ngheizit.maps.arcgis.com/home/item.html?id=caab2312db0849b294b5301fe8f40e38' target='_blank'>\n",
       "                        <img src='http://static.arcgis.com/images/desktopapp.png' class=\"itemThumbnail\">\n",
       "                       </a>\n",
       "                    </div>\n",
       "\n",
       "                    <div class=\"item_right\"     style=\"float: none; width: auto; overflow: hidden;\">\n",
       "                        <a href='https://ngheizit.maps.arcgis.com/home/item.html?id=caab2312db0849b294b5301fe8f40e38' target='_blank'><b>Parks and Open Space</b>\n",
       "                        </a>\n",
       "                        <br/><img src='https://ngheizit.maps.arcgis.com/home/js/jsapi/esri/css/images/item_type_icons/datafiles16.png' style=\"vertical-align:middle;\">Shapefile by xizhewu\n",
       "                        <br/>Last Modified: 十一月 13, 2019\n",
       "                        <br/>0 comments, 0 views\n",
       "                    </div>\n",
       "                </div>\n",
       "                "
      ],
      "text/plain": [
       "<Item title:\"Parks and Open Space\" type:Shapefile owner:xizhewu>"
      ]
     },
     "execution_count": 28,
     "metadata": {},
     "output_type": "execute_result"
    }
   ],
   "source": [
    "# 数据上传\n",
    "data = gis.content.add(properties, data=data_file_location, folder=input('上传至（网络文件夹）：'))\n",
    "\n",
    "data"
   ]
  },
  {
   "cell_type": "code",
   "execution_count": 29,
   "metadata": {},
   "outputs": [
    {
     "data": {
      "text/html": [
       "<div class=\"item_container\" style=\"height: auto; overflow: hidden; border: 1px solid #cfcfcf; border-radius: 2px; background: #f6fafa; line-height: 1.21429em; padding: 10px;\">\n",
       "                    <div class=\"item_left\" style=\"width: 210px; float: left;\">\n",
       "                       <a href='https://ngheizit.maps.arcgis.com/home/item.html?id=d452a2f93756471f994dada9fbdb3ee4' target='_blank'>\n",
       "                        <img src='http://static.arcgis.com/images/desktopapp.png' class=\"itemThumbnail\">\n",
       "                       </a>\n",
       "                    </div>\n",
       "\n",
       "                    <div class=\"item_right\"     style=\"float: none; width: auto; overflow: hidden;\">\n",
       "                        <a href='https://ngheizit.maps.arcgis.com/home/item.html?id=d452a2f93756471f994dada9fbdb3ee4' target='_blank'><b>Parks and Open Space</b>\n",
       "                        </a>\n",
       "                        <br/><img src='https://ngheizit.maps.arcgis.com/home/js/jsapi/esri/css/images/item_type_icons/featureshosted16.png' style=\"vertical-align:middle;\">Feature Layer Collection by xizhewu\n",
       "                        <br/>Last Modified: 十一月 13, 2019\n",
       "                        <br/>0 comments, 0 views\n",
       "                    </div>\n",
       "                </div>\n",
       "                "
      ],
      "text/plain": [
       "<Item title:\"Parks and Open Space\" type:Feature Layer Collection owner:xizhewu>"
      ]
     },
     "execution_count": 29,
     "metadata": {},
     "output_type": "execute_result"
    }
   ],
   "source": [
    "# 数据发布\n",
    "data_publish = data.publish()\n",
    "data_publish"
   ]
  },
  {
   "cell_type": "code",
   "execution_count": 31,
   "metadata": {},
   "outputs": [
    {
     "data": {
      "text/plain": [
       "'https://services9.arcgis.com/8vu5jgpRPi7NCKmE/arcgis/rest/services/Parks_and_Open_Space/FeatureServer'"
      ]
     },
     "execution_count": 31,
     "metadata": {},
     "output_type": "execute_result"
    }
   ],
   "source": [
    "# 识别URL\n",
    "data_publish.url"
   ]
  },
  {
   "cell_type": "code",
   "execution_count": 32,
   "metadata": {},
   "outputs": [
    {
     "data": {
      "text/plain": [
       "<FeatureLayer url:\"https://services9.arcgis.com/8vu5jgpRPi7NCKmE/arcgis/rest/services/Parks_and_Open_Space/FeatureServer\">"
      ]
     },
     "execution_count": 32,
     "metadata": {},
     "output_type": "execute_result"
    }
   ],
   "source": [
    "from arcgis.features import FeatureLayer\n",
    "layer = FeatureLayer(data_publish.url)\n",
    "layer"
   ]
  },
  {
   "cell_type": "code",
   "execution_count": null,
   "metadata": {},
   "outputs": [],
   "source": []
  }
 ],
 "metadata": {
  "kernelspec": {
   "display_name": "Python 3",
   "language": "python",
   "name": "python3"
  },
  "language_info": {
   "codemirror_mode": {
    "name": "ipython",
    "version": 3
   },
   "file_extension": ".py",
   "mimetype": "text/x-python",
   "name": "python",
   "nbconvert_exporter": "python",
   "pygments_lexer": "ipython3",
   "version": "3.7.3"
  }
 },
 "nbformat": 4,
 "nbformat_minor": 2
}
