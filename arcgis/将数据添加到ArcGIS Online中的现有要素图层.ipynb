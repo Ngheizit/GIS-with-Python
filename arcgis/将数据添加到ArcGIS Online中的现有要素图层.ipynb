{
 "cells": [
  {
   "cell_type": "code",
   "execution_count": 2,
   "metadata": {},
   "outputs": [],
   "source": [
    "from arcgis.gis import GIS"
   ]
  },
  {
   "cell_type": "code",
   "execution_count": 3,
   "metadata": {},
   "outputs": [
    {
     "name": "stdout",
     "output_type": "stream",
     "text": [
      "用户名：xizhewu\n",
      "密码：Wxz041499\n"
     ]
    },
    {
     "data": {
      "text/html": [
       "GIS @ <a href=\"https://ngheizit.maps.arcgis.com\">https://ngheizit.maps.arcgis.com</a>"
      ],
      "text/plain": [
       "GIS @ https://ngheizit.maps.arcgis.com version:7.3"
      ]
     },
     "execution_count": 3,
     "metadata": {},
     "output_type": "execute_result"
    }
   ],
   "source": [
    "username = input('用户名：')\n",
    "password = input('密码：')\n",
    "gis = GIS(\"https://www.arcgis.com\", username=username, password=password)\n",
    "gis"
   ]
  },
  {
   "cell_type": "code",
   "execution_count": 24,
   "metadata": {},
   "outputs": [
    {
     "data": {
      "text/plain": [
       "[<Item title:\"fl-中国主要湖泊和水库\" type:Feature Layer Collection owner:xizhewu>,\n",
       " <Item title:\"fl-中国主要河流\" type:Feature Layer Collection owner:xizhewu>,\n",
       " <Item title:\"fl-中国主要铁路\" type:Feature Layer Collection owner:xizhewu>,\n",
       " <Item title:\"Parks and Open Space\" type:Feature Layer Collection owner:xizhewu>,\n",
       " <Item title:\"fl-中国省级行政单元\" type:Feature Layer Collection owner:xizhewu>,\n",
       " <Item title:\"Students\" type:Feature Layer Collection owner:xizhewu>,\n",
       " <Item title:\"earthquakes\" type:Feature Layer Collection owner:xizhewu>,\n",
       " <Item title:\"fl-中国省级行政界线\" type:Feature Layer Collection owner:xizhewu>,\n",
       " <Item title:\"fl-纬线与东西半球分界线\" type:Feature Layer Collection owner:xizhewu>,\n",
       " <Item title:\"CN_34Capital_Population\" type:Feature Layer Collection owner:xizhewu>,\n",
       " <Item title:\"fl-讲咩嘢啊\" type:Feature Layer Collection owner:xizhewu>,\n",
       " <Item title:\"fl-中国省级行政中心\" type:Feature Layer Collection owner:xizhewu>]"
      ]
     },
     "execution_count": 24,
     "metadata": {},
     "output_type": "execute_result"
    }
   ],
   "source": [
    "query = '*' # All\n",
    "query = 'type: \"Feature Service\"' # Feature Layer\n",
    "search_results = gis.content.search(query, max_items=9999)\n",
    "search_results"
   ]
  },
  {
   "cell_type": "code",
   "execution_count": 32,
   "metadata": {},
   "outputs": [
    {
     "name": "stdout",
     "output_type": "stream",
     "text": [
      "Item: <Item title:\"fl-中国主要湖泊和水库\" type:Feature Layer Collection owner:xizhewu>\n",
      "Url: https://services9.arcgis.com/8vu5jgpRPi7NCKmE/arcgis/rest/services/LAKE_L1R/FeatureServer\n",
      "DataSource Name: LAKE_L1R\n",
      "\n",
      "\n",
      "Item: <Item title:\"fl-中国主要河流\" type:Feature Layer Collection owner:xizhewu>\n",
      "Url: https://services9.arcgis.com/8vu5jgpRPi7NCKmE/arcgis/rest/services/RIVER_3J/FeatureServer\n",
      "DataSource Name: RIVER_3J\n",
      "\n",
      "\n",
      "Item: <Item title:\"fl-中国主要铁路\" type:Feature Layer Collection owner:xizhewu>\n",
      "Url: https://services9.arcgis.com/8vu5jgpRPi7NCKmE/arcgis/rest/services/TRAIN/FeatureServer\n",
      "DataSource Name: TRAIN\n",
      "\n",
      "\n",
      "Item: <Item title:\"Parks and Open Space\" type:Feature Layer Collection owner:xizhewu>\n",
      "Url: https://services9.arcgis.com/8vu5jgpRPi7NCKmE/arcgis/rest/services/Parks_and_Open_Space/FeatureServer\n",
      "DataSource Name: Parks_and_Open_Space\n",
      "\n",
      "\n",
      "Item: <Item title:\"fl-中国省级行政单元\" type:Feature Layer Collection owner:xizhewu>\n",
      "Url: https://services9.arcgis.com/8vu5jgpRPi7NCKmE/arcgis/rest/services/BOUA_PJ/FeatureServer\n",
      "DataSource Name: BOUA_PJ\n",
      "\n",
      "\n",
      "Item: <Item title:\"Students\" type:Feature Layer Collection owner:xizhewu>\n",
      "Url: https://services9.arcgis.com/8vu5jgpRPi7NCKmE/arcgis/rest/services/Students/FeatureServer\n",
      "DataSource Name: Students\n",
      "\n",
      "\n",
      "Item: <Item title:\"earthquakes\" type:Feature Layer Collection owner:xizhewu>\n",
      "Url: https://services9.arcgis.com/8vu5jgpRPi7NCKmE/arcgis/rest/services/earthquakes/FeatureServer\n",
      "DataSource Name: earthquakes\n",
      "\n",
      "\n",
      "Item: <Item title:\"fl-中国省级行政界线\" type:Feature Layer Collection owner:xizhewu>\n",
      "Url: https://services9.arcgis.com/8vu5jgpRPi7NCKmE/arcgis/rest/services/BOUL_PJ/FeatureServer\n",
      "DataSource Name: BOUL_PJ\n",
      "\n",
      "\n",
      "Item: <Item title:\"fl-纬线与东西半球分界线\" type:Feature Layer Collection owner:xizhewu>\n",
      "Url: https://services9.arcgis.com/8vu5jgpRPi7NCKmE/arcgis/rest/services/地球环_WFL1/FeatureServer\n",
      "DataSource Name: GEOGRID\n",
      "\n",
      "\n",
      "Item: <Item title:\"CN_34Capital_Population\" type:Feature Layer Collection owner:xizhewu>\n",
      "Url: https://services9.arcgis.com/8vu5jgpRPi7NCKmE/arcgis/rest/services/CN_34Capital_Population/FeatureServer\n",
      "DataSource Name: CN_34Capital_Population\n",
      "\n",
      "\n",
      "Item: <Item title:\"fl-讲咩嘢啊\" type:Feature Layer Collection owner:xizhewu>\n",
      "Url: https://services9.arcgis.com/8vu5jgpRPi7NCKmE/arcgis/rest/services/倾偈_WFL1/FeatureServer\n",
      "DataSource Name: 讲咩嘢啊\n",
      "\n",
      "\n",
      "Item: <Item title:\"fl-中国省级行政中心\" type:Feature Layer Collection owner:xizhewu>\n",
      "Url: https://services9.arcgis.com/8vu5jgpRPi7NCKmE/arcgis/rest/services/BOUP_PJ/FeatureServer\n",
      "DataSource Name: BOUP_PJ\n",
      "\n",
      "\n"
     ]
    }
   ],
   "source": [
    "query = 'type: \"Feature Service\"' # Feature Layer\n",
    "search_results = gis.content.search(query, max_items=9999)\n",
    "for item in search_results:\n",
    "    print(\"Item: {0}\".format(item))\n",
    "    print(\"Url: {0}\".format(item.url))\n",
    "    feature_layer = item.layers[0]\n",
    "    print(\"DataSource Name: {0}\".format(feature_layer.properties.name))\n",
    "    print(\"\\n\")"
   ]
  },
  {
   "cell_type": "code",
   "execution_count": 34,
   "metadata": {},
   "outputs": [
    {
     "data": {
      "text/plain": [
       "[<Item title:\"fl-讲咩嘢啊\" type:Feature Layer Collection owner:xizhewu>]"
      ]
     },
     "execution_count": 34,
     "metadata": {},
     "output_type": "execute_result"
    }
   ],
   "source": [
    "query = 'title: \"fl-讲咩嘢啊\"'\n",
    "search_results = gis.content.search(query=query, max_items=10)\n",
    "search_results"
   ]
  },
  {
   "cell_type": "code",
   "execution_count": 35,
   "metadata": {},
   "outputs": [
    {
     "data": {
      "text/plain": [
       "'讲咩嘢啊'"
      ]
     },
     "execution_count": 35,
     "metadata": {},
     "output_type": "execute_result"
    }
   ],
   "source": [
    "layer = search_results[0].layers[0]\n",
    "layer.properties.name"
   ]
  },
  {
   "cell_type": "code",
   "execution_count": 36,
   "metadata": {},
   "outputs": [],
   "source": [
    "from arcgis import geometry\n",
    "from arcgis import features"
   ]
  },
  {
   "cell_type": "code",
   "execution_count": 40,
   "metadata": {},
   "outputs": [
    {
     "name": "stdout",
     "output_type": "stream",
     "text": [
      "https://services9.arcgis.com/8vu5jgpRPi7NCKmE/arcgis/rest/services/倾偈_WFL1/FeatureServer\n"
     ]
    }
   ],
   "source": [
    "print(search_results[0].url)"
   ]
  },
  {
   "cell_type": "code",
   "execution_count": 61,
   "metadata": {},
   "outputs": [
    {
     "name": "stdout",
     "output_type": "stream",
     "text": [
      "Fields:  OBJECTID(OID)\tNAME(String)\tTIME(Date)\tCOLOR(String)\tTAKING(String)\t"
     ]
    }
   ],
   "source": [
    "layer = search_results[0].layers[0]\n",
    "print('Fields: ', end = ' ')\n",
    "for field in layer.properties['fields']:\n",
    "    print('{0}({1})'.format(field['name'], field['type'][13:]), end = '\\t')"
   ]
  },
  {
   "cell_type": "code",
   "execution_count": 67,
   "metadata": {},
   "outputs": [],
   "source": [
    "def create_feature(_map, location):\n",
    "    try:\n",
    "        point = geometry.Point(location)\n",
    "        feature = features.Feature(\n",
    "            geometry=point,\n",
    "            attributes={\n",
    "                'NAME': '希浙',\n",
    "                'TIME': '11132019',\n",
    "                'COLOR': '1',\n",
    "                'TAKING': 'emmm'\n",
    "            }\n",
    "        )\n",
    "\n",
    "        layer.edit_features(adds=[feature])\n",
    "        _map.draw(point)\n",
    "\n",
    "    except Exception as e:\n",
    "        print(\"Couldn't create the feature. {}\".format(str(e)))"
   ]
  },
  {
   "cell_type": "code",
   "execution_count": 68,
   "metadata": {},
   "outputs": [
    {
     "data": {
      "application/vnd.jupyter.widget-view+json": {
       "model_id": "3c65fa40ac1846218b8aeec31973590e",
       "version_major": 2,
       "version_minor": 0
      },
      "text/plain": [
       "MapView(layout=Layout(height='400px', width='100%'))"
      ]
     },
     "metadata": {},
     "output_type": "display_data"
    },
    {
     "data": {
      "text/html": [
       "<div class=\"map-static-img-preview-7fc62c2e-c721-419b-bff7-ba67f46775b5\"><img src=\"\"></img></div>"
      ],
      "text/plain": [
       "<IPython.core.display.HTML object>"
      ]
     },
     "metadata": {},
     "output_type": "display_data"
    }
   ],
   "source": [
    "m = gis.map()\n",
    "m.on_click(create_feature)\n",
    "m.add_layer(layer)\n",
    "m"
   ]
  },
  {
   "cell_type": "code",
   "execution_count": null,
   "metadata": {},
   "outputs": [],
   "source": []
  }
 ],
 "metadata": {
  "kernelspec": {
   "display_name": "Python 3",
   "language": "python",
   "name": "python3"
  },
  "language_info": {
   "codemirror_mode": {
    "name": "ipython",
    "version": 3
   },
   "file_extension": ".py",
   "mimetype": "text/x-python",
   "name": "python",
   "nbconvert_exporter": "python",
   "pygments_lexer": "ipython3",
   "version": "3.7.3"
  }
 },
 "nbformat": 4,
 "nbformat_minor": 2
}
