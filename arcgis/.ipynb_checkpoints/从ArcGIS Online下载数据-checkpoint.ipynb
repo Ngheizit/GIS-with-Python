{
 "cells": [
  {
   "cell_type": "markdown",
   "metadata": {},
   "source": [
    "# 使用ArcGIS API for Python从ArcGIS Online下载数据"
   ]
  },
  {
   "cell_type": "code",
   "execution_count": 2,
   "metadata": {},
   "outputs": [],
   "source": [
    "# 导入相关模块\n",
    "from arcgis.gis import GIS\n",
    "from pathlib import Path"
   ]
  },
  {
   "cell_type": "code",
   "execution_count": 3,
   "metadata": {},
   "outputs": [
    {
     "data": {
      "text/html": [
       "GIS @ <a href=\"https://www.arcgis.com\">https://www.arcgis.com</a>"
      ],
      "text/plain": [
       "GIS @ https://www.arcgis.com version:7.3"
      ]
     },
     "execution_count": 3,
     "metadata": {},
     "output_type": "execute_result"
    }
   ],
   "source": [
    "gis = GIS()\n",
    "gis"
   ]
  },
  {
   "cell_type": "code",
   "execution_count": 12,
   "metadata": {},
   "outputs": [
    {
     "data": {
      "text/html": [
       "<div class=\"item_container\" style=\"height: auto; overflow: hidden; border: 1px solid #cfcfcf; border-radius: 2px; background: #f6fafa; line-height: 1.21429em; padding: 10px;\">\n",
       "                    <div class=\"item_left\" style=\"width: 210px; float: left;\">\n",
       "                       <a href='https://www.arcgis.com/home/item.html?id=9c3e885d899d4c32a25b3fe981111126' target='_blank'>\n",
       "                        <img src='https://www.arcgis.com/sharing/rest//content/items/9c3e885d899d4c32a25b3fe981111126/info/thumbnail/ago_downloaded.png' class=\"itemThumbnail\">\n",
       "                       </a>\n",
       "                    </div>\n",
       "\n",
       "                    <div class=\"item_right\"     style=\"float: none; width: auto; overflow: hidden;\">\n",
       "                        <a href='https://www.arcgis.com/home/item.html?id=9c3e885d899d4c32a25b3fe981111126' target='_blank'><b>CN_34Capital_Population</b>\n",
       "                        </a>\n",
       "                        <br/><img src='https://www.arcgis.com/home/js/jsapi/esri/css/images/item_type_icons/featureshosted16.png' style=\"vertical-align:middle;\">Feature Layer Collection by xizhewu\n",
       "                        <br/>Last Modified: 十一月 09, 2019\n",
       "                        <br/>0 comments, 8 views\n",
       "                    </div>\n",
       "                </div>\n",
       "                "
      ],
      "text/plain": [
       "<Item title:\"CN_34Capital_Population\" type:Feature Layer Collection owner:xizhewu>"
      ]
     },
     "execution_count": 12,
     "metadata": {},
     "output_type": "execute_result"
    }
   ],
   "source": [
    "public_data_item_id = '9c3e885d899d4c32a25b3fe981111126' # 公共数据项ID\n",
    "data_item = gis.content.get(public_data_item_id)\n",
    "data_item"
   ]
  },
  {
   "cell_type": "code",
   "execution_count": 5,
   "metadata": {},
   "outputs": [],
   "source": [
    "data_path = Path('./download') # 数据预下载目录\n",
    "if not data_path.exists():\n",
    "    data_path.mkdir()"
   ]
  },
  {
   "cell_type": "code",
   "execution_count": 6,
   "metadata": {},
   "outputs": [
    {
     "name": "stdout",
     "output_type": "stream",
     "text": [
      "ok\n"
     ]
    }
   ],
   "source": [
    "# 数据下载\n",
    "data_item.download(save_path=data_path)\n",
    "print('ok')"
   ]
  },
  {
   "cell_type": "code",
   "execution_count": 16,
   "metadata": {},
   "outputs": [
    {
     "name": "stdout",
     "output_type": "stream",
     "text": [
      "https://services9.arcgis.com/8vu5jgpRPi7NCKmE/arcgis/rest/services/CN_34Capital_Population/FeatureServer\n"
     ]
    }
   ],
   "source": [
    "print(data_item.url)"
   ]
  },
  {
   "cell_type": "code",
   "execution_count": null,
   "metadata": {},
   "outputs": [],
   "source": []
  }
 ],
 "metadata": {
  "kernelspec": {
   "display_name": "Python 3",
   "language": "python",
   "name": "python3"
  },
  "language_info": {
   "codemirror_mode": {
    "name": "ipython",
    "version": 3
   },
   "file_extension": ".py",
   "mimetype": "text/x-python",
   "name": "python",
   "nbconvert_exporter": "python",
   "pygments_lexer": "ipython3",
   "version": "3.7.3"
  }
 },
 "nbformat": 4,
 "nbformat_minor": 2
}
