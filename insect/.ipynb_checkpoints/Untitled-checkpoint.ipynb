{
 "cells": [
  {
   "cell_type": "markdown",
   "metadata": {},
   "source": [
    "# 天地图API"
   ]
  },
  {
   "cell_type": "code",
   "execution_count": 11,
   "metadata": {},
   "outputs": [],
   "source": [
    "import json\n",
    "import requests\n",
    "# from bs4 import BeautifulSoup\n",
    "# import sys"
   ]
  },
  {
   "cell_type": "code",
   "execution_count": 12,
   "metadata": {},
   "outputs": [],
   "source": [
    "# 网页提取框架\n",
    "def getHTMLText(url):\n",
    "    try:\n",
    "        r = requests.get(url)\n",
    "        r.raise_for_status()\n",
    "        # r.encoding = r.apparent_encoding\n",
    "        return r.text\n",
    "    except:\n",
    "        sys.exit('{}网页提取失败'.format(url))\n",
    "        return None"
   ]
  },
  {
   "cell_type": "code",
   "execution_count": 17,
   "metadata": {},
   "outputs": [],
   "source": [
    "tk = '82336205e2fbc3838263aeb80c78112a'\n"
   ]
  },
  {
   "cell_type": "markdown",
   "metadata": {},
   "source": [
    "## 1. POI搜索"
   ]
  },
  {
   "cell_type": "code",
   "execution_count": 14,
   "metadata": {},
   "outputs": [],
   "source": [
    "# 普通搜索\n",
    "def CreateJSON_GeneralSearch(keyWord, level, mapBound, queryType, count, start):\n",
    "    return {\n",
    "        \"keyWord\": keyWord,\n",
    "        \"level\": level,\n",
    "        \"mapBound\": mapBound,\n",
    "        \"queryType\": queryType,\n",
    "        \"count\": count,\n",
    "        \"start\": start\n",
    "    }"
   ]
  },
  {
   "cell_type": "code",
   "execution_count": 18,
   "metadata": {},
   "outputs": [
    {
     "data": {
      "text/plain": [
       "'<html>\\r\\n<head><title>403 Forbidden</title></head>\\r\\n<body bgcolor=\"white\">\\r\\n<center><h1>403 Forbidden</h1></center>\\r\\n<hr><center>TDTWS1.14.0</center>\\r\\n</body>\\r\\n</html>\\r\\n'"
      ]
     },
     "execution_count": 18,
     "metadata": {},
     "output_type": "execute_result"
    }
   ],
   "source": [
    "# http://api.tianditu.gov.cn/search?postStr={\"keyWord\":\"超市\",\"level\":\"11\",\"mapBound\":\"116.04577,39.70307,116.77361,40.09583\",\"queryType\":\"1\",\"count\":\"20\",\"start\":\"0\"}&type=query&tk=您的密钥\n",
    "data = {\n",
    "    'postStr': CreateJSON_GeneralSearch(\"超市\", \"11\", \"116.04577,39.70307,116.77361,40.09583\", \"1\", \"20\", \"0\"),\n",
    "    'type': 'query',\n",
    "    'tk': tk\n",
    "}\n",
    "r = requests.post('http://api.tianditu.gov.cn/search', data=data)\n",
    "r.text"
   ]
  },
  {
   "cell_type": "code",
   "execution_count": null,
   "metadata": {},
   "outputs": [],
   "source": []
  }
 ],
 "metadata": {
  "kernelspec": {
   "display_name": "Python 3",
   "language": "python",
   "name": "python3"
  },
  "language_info": {
   "codemirror_mode": {
    "name": "ipython",
    "version": 3
   },
   "file_extension": ".py",
   "mimetype": "text/x-python",
   "name": "python",
   "nbconvert_exporter": "python",
   "pygments_lexer": "ipython3",
   "version": "3.7.3"
  }
 },
 "nbformat": 4,
 "nbformat_minor": 2
}
