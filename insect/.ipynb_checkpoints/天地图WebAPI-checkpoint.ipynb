{
 "cells": [
  {
   "cell_type": "markdown",
   "metadata": {},
   "source": [
    "# 天地图API"
   ]
  },
  {
   "cell_type": "code",
   "execution_count": 18,
   "metadata": {},
   "outputs": [],
   "source": [
    "import json\n",
    "import requests\n",
    "from pprint import pprint\n",
    "# from bs4 import BeautifulSoup\n",
    "# import sys"
   ]
  },
  {
   "cell_type": "code",
   "execution_count": 3,
   "metadata": {},
   "outputs": [],
   "source": [
    "# 网页提取框架\n",
    "def getHTMLText(url):\n",
    "    try:\n",
    "        r = requests.get(url)\n",
    "        r.raise_for_status()\n",
    "        # r.encoding = r.apparent_encoding\n",
    "        return r.text\n",
    "    except:\n",
    "        sys.exit('{}网页提取失败'.format(url))\n",
    "        return None"
   ]
  },
  {
   "cell_type": "code",
   "execution_count": 4,
   "metadata": {},
   "outputs": [],
   "source": [
    "tk = '82336205e2fbc3838263aeb80c78112a'\n"
   ]
  },
  {
   "cell_type": "markdown",
   "metadata": {},
   "source": [
    "## 1. POI搜索"
   ]
  },
  {
   "cell_type": "code",
   "execution_count": 5,
   "metadata": {},
   "outputs": [],
   "source": [
    "# 普通搜索\n",
    "def CreateJSON_GeneralSearch(keyWord, level, mapBound, queryType, count, start):\n",
    "    return {\n",
    "        \"keyWord\": keyWord,\n",
    "        \"level\": level,\n",
    "        \"mapBound\": mapBound,\n",
    "        \"queryType\": queryType,\n",
    "        \"count\": count,\n",
    "        \"start\": start\n",
    "    }"
   ]
  },
  {
   "cell_type": "code",
   "execution_count": 71,
   "metadata": {},
   "outputs": [
    {
     "data": {
      "text/plain": [
       "'14112'"
      ]
     },
     "execution_count": 71,
     "metadata": {},
     "output_type": "execute_result"
    }
   ],
   "source": [
    "# http://api.tianditu.gov.cn/search?postStr={\"keyWord\":\"超市\",\"level\":\"11\",\"mapBound\":\"116.04577,39.70307,116.77361,40.09583\",\"queryType\":\"1\",\"count\":\"20\",\"start\":\"0\"}&type=query&tk=您的密钥\n",
    "\n",
    "data = {\n",
    "    'postStr': str(CreateJSON_GeneralSearch(\"超市\", \"11\", \"116.04577,39.70307,116.77361,40.09583\", \"1\", \"20\", \"0\")),\n",
    "    'type': 'query',\n",
    "    'tk': tk\n",
    "}\n",
    "r = requests.get('http://api.tianditu.gov.cn/search', params=data)\n",
    "# print(r.url)\n",
    "\n",
    "# pprint(r.text)\n",
    "dic = json.loads(r.text)\n",
    "pois = dic['pois']\n",
    "count = dic['count']\n",
    "count\n"
   ]
  },
  {
   "cell_type": "code",
   "execution_count": null,
   "metadata": {},
   "outputs": [],
   "source": []
  }
 ],
 "metadata": {
  "kernelspec": {
   "display_name": "Python 3",
   "language": "python",
   "name": "python3"
  },
  "language_info": {
   "codemirror_mode": {
    "name": "ipython",
    "version": 3
   },
   "file_extension": ".py",
   "mimetype": "text/x-python",
   "name": "python",
   "nbconvert_exporter": "python",
   "pygments_lexer": "ipython3",
   "version": "3.7.3"
  }
 },
 "nbformat": 4,
 "nbformat_minor": 2
}
